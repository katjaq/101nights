{
 "cells": [
  {
   "cell_type": "markdown",
   "metadata": {},
   "source": [
    "# WARNING\n",
    "Clean notebook before pushing to Github. \n",
    "In the menu: Cell -> All Output -> Clear"
   ]
  },
  {
   "cell_type": "code",
   "execution_count": null,
   "metadata": {
    "collapsed": true
   },
   "outputs": [],
   "source": [
    "%matplotlib inline\n",
    "import matplotlib\n",
    "import matplotlib.pyplot as plt\n",
    "import mne"
   ]
  },
  {
   "cell_type": "markdown",
   "metadata": {},
   "source": [
    "# Loading & cropping\n",
    "EEG files are huge (~10GB/night) so we crop one hour for the tests."
   ]
  },
  {
   "cell_type": "code",
   "execution_count": null,
   "metadata": {
    "collapsed": true
   },
   "outputs": [],
   "source": [
    "path_to_file = '../data/raw/EEG/Nathalie-78_20171118_123017.mff'"
   ]
  },
  {
   "cell_type": "code",
   "execution_count": null,
   "metadata": {
    "collapsed": true
   },
   "outputs": [],
   "source": [
    "raw = mne.io.read_raw_egi(path_to_file,\n",
    "                          montage='GSN-HydroCel-256',\n",
    "                          preload=True)"
   ]
  },
  {
   "cell_type": "code",
   "execution_count": null,
   "metadata": {
    "collapsed": true
   },
   "outputs": [],
   "source": [
    "raw.crop(tmin=3600, tmax=3600*2)\n",
    "raw.filter(0.1, 50., fir_design='firwin')\n",
    "raw.set_eeg_reference('average', projection=True)\n",
    "raw.plot(block=True, lowpass=40, highpass=0.1)\n",
    "plt.show()"
   ]
  },
  {
   "cell_type": "code",
   "execution_count": null,
   "metadata": {
    "collapsed": true
   },
   "outputs": [],
   "source": [
    "raw.save('../data/derived/eeg_example_raw.fif', overwrite=True)"
   ]
  },
  {
   "cell_type": "markdown",
   "metadata": {},
   "source": [
    "# Preprocessing"
   ]
  },
  {
   "cell_type": "code",
   "execution_count": null,
   "metadata": {
    "collapsed": true
   },
   "outputs": [],
   "source": [
    "raw = mne.io.read_raw_fif('../data/derived/eeg_example_raw.fif', preload=True)"
   ]
  },
  {
   "cell_type": "code",
   "execution_count": null,
   "metadata": {
    "collapsed": true
   },
   "outputs": [],
   "source": [
    "from autoreject import AutoReject, compute_thresholds\n",
    "from functools import partial\n",
    "import numpy as np\n",
    "np.random.seed(42)"
   ]
  },
  {
   "cell_type": "code",
   "execution_count": null,
   "metadata": {
    "collapsed": true
   },
   "outputs": [],
   "source": [
    "events_ar = mne.event.make_fixed_length_events(\n",
    "            raw, id=9999, start=0, stop=None, duration=1.0,\n",
    "            first_samp=True)\n",
    "epochs_ar = mne.epochs.Epochs(raw, events_ar, tmin=0, tmax=1.0,\n",
    "                              baseline=None, preload=True)\n",
    "epochs_ar.decimate(2)"
   ]
  },
  {
   "cell_type": "code",
   "execution_count": null,
   "metadata": {
    "collapsed": true
   },
   "outputs": [],
   "source": [
    "thresh_func = partial(compute_thresholds, random_state=42, n_jobs=1)\n",
    "ar = AutoReject(thresh_func=thresh_func, verbose='tqdm')\n",
    "\n",
    "index = np.random.choice(np.arange(len(epochs_ar)),\n",
    "                         size=int(np.floor(len(epochs_ar) * 0.1)),\n",
    "                         replace=False)\n",
    "ar.fit(epochs_ar[index])"
   ]
  },
  {
   "cell_type": "code",
   "execution_count": null,
   "metadata": {
    "collapsed": true,
    "scrolled": true
   },
   "outputs": [],
   "source": [
    "epochs_clean = ar.transform(epochs_ar)\n",
    "\n",
    "print(\"{:.2f}% epochs rejected (N={})\".format(\n",
    "      epochs_clean.drop_log_stats(), len(epochs_clean)))"
   ]
  },
  {
   "cell_type": "code",
   "execution_count": null,
   "metadata": {
    "collapsed": true
   },
   "outputs": [],
   "source": [
    "epochs_clean.save('../data/derived/cleaned_epo.fif')"
   ]
  },
  {
   "cell_type": "markdown",
   "metadata": {},
   "source": [
    "## Check epochs"
   ]
  },
  {
   "cell_type": "code",
   "execution_count": null,
   "metadata": {
    "collapsed": true
   },
   "outputs": [],
   "source": [
    "epochs_clean = mne.read_epochs('../data/derived/cleaned_epo.fif')"
   ]
  },
  {
   "cell_type": "code",
   "execution_count": null,
   "metadata": {
    "collapsed": true
   },
   "outputs": [],
   "source": [
    "plt.figure(figsize=[20, 10])\n",
    "epochs_clean.plot_psd_topomap()\n",
    "plt.show()"
   ]
  },
  {
   "cell_type": "code",
   "execution_count": null,
   "metadata": {
    "collapsed": true
   },
   "outputs": [],
   "source": [
    "plt.figure(figsize=[20, 10])\n",
    "epochs_clean.plot_psd()\n",
    "plt.show()"
   ]
  },
  {
   "cell_type": "markdown",
   "metadata": {},
   "source": [
    "## Source reconstruction"
   ]
  },
  {
   "cell_type": "code",
   "execution_count": null,
   "metadata": {
    "collapsed": true
   },
   "outputs": [],
   "source": [
    "src = mne.setup_source_space('nathalie', subjects_dir='../data/raw/MRI/', spacing='oct6') \n",
    "mne.write_source_spaces('../data/derived/nathalie-oct6-src.fif', src)"
   ]
  },
  {
   "cell_type": "code",
   "execution_count": null,
   "metadata": {
    "collapsed": true
   },
   "outputs": [],
   "source": [
    "%%bash\n",
    "mne watershed_bem -s nathalie"
   ]
  },
  {
   "cell_type": "code",
   "execution_count": null,
   "metadata": {
    "collapsed": true
   },
   "outputs": [],
   "source": [
    "model = mne.make_bem_model('nathalie', subjects_dir='../data/raw/MRI/')\n",
    "mne.write_bem_surfaces('../data/derived/nathalie-bem.fif', model) \n",
    "bem_sol = mne.make_bem_solution(model)  \n",
    "mne.write_bem_solution('../data/derived/nathalie-bem-sol.fif', bem_sol) "
   ]
  }
 ],
 "metadata": {
  "kernelspec": {
   "display_name": "Python 3",
   "language": "python",
   "name": "python3"
  },
  "language_info": {
   "codemirror_mode": {
    "name": "ipython",
    "version": 3
   },
   "file_extension": ".py",
   "mimetype": "text/x-python",
   "name": "python",
   "nbconvert_exporter": "python",
   "pygments_lexer": "ipython3",
   "version": "3.6.3"
  },
  "latex_envs": {
   "LaTeX_envs_menu_present": true,
   "autocomplete": true,
   "bibliofile": "biblio.bib",
   "cite_by": "apalike",
   "current_citInitial": 1,
   "eqLabelWithNumbers": true,
   "eqNumInitial": 1,
   "hotkeys": {
    "equation": "Ctrl-E",
    "itemize": "Ctrl-I"
   },
   "labels_anchors": false,
   "latex_user_defs": false,
   "report_style_numbering": false,
   "user_envs_cfg": false
  }
 },
 "nbformat": 4,
 "nbformat_minor": 2
}
