{
 "cells": [
  {
   "cell_type": "code",
   "execution_count": null,
   "metadata": {},
   "outputs": [],
   "source": [
    "%matplotlib notebook\n",
    "import mne\n",
    "import os.path as op\n",
    "\n",
    "epochs_clean = mne.read_epochs('../data/derived/cleaned_epo.fif')\n",
    "#epochs_clean.plot_sensors()\n",
    "\n"
   ]
  },
  {
   "cell_type": "code",
   "execution_count": null,
   "metadata": {},
   "outputs": [],
   "source": [
    "subject='nathalie'\n",
    "subjects_dir='../data/raw/MRI'\n",
    "derived='../data/derived/'\n",
    "trans = '../data/derived/nathalie-trans.fif'\n",
    "src = mne.read_source_spaces(derived + 'nathalie-oct6-src.fif')"
   ]
  },
  {
   "cell_type": "code",
   "execution_count": null,
   "metadata": {},
   "outputs": [],
   "source": [
    "mne watershed_bem -s nathalie\n",
    "model = mne.make_bem_model('nathalie', subjects_dir='../data/raw/MRI/')\n",
    "mne.write_bem_surfaces('../data/derived/nathalie-bem.fif', model) \n",
    "bem_sol = mne.make_bem_solution(model)  \n",
    "mne.write_bem_solution('../data/derived/nathalie-bem-sol.fif', bem_sol) "
   ]
  },
  {
   "cell_type": "code",
   "execution_count": null,
   "metadata": {},
   "outputs": [],
   "source": [
    "%matplotlib notebook\n",
    "\n",
    "mne.viz.plot_bem(subject=subject, subjects_dir=subjects_dir,\n",
    "                 brain_surfaces='white', orientation='coronal')"
   ]
  },
  {
   "cell_type": "markdown",
   "metadata": {},
   "source": [
    "# Aligning coordinate frames"
   ]
  },
  {
   "cell_type": "code",
   "execution_count": null,
   "metadata": {},
   "outputs": [],
   "source": [
    " #mne.gui.coregistration(subject='nathalie', subjects_dir=subjects_dir)\n",
    "from mne.viz import plot_alignment\n",
    "from mayavi import mlab\n",
    "mne.viz.plot_alignment(epochs_clean.info, trans=trans, subject='nathalie', src=src,\n",
    "                       subjects_dir=subjects_dir,  dig=False,\n",
    "                     eeg=['original', 'projected'], meg=[],\n",
    "                        coord_frame='head')"
   ]
  },
  {
   "cell_type": "code",
   "execution_count": null,
   "metadata": {},
   "outputs": [],
   "source": [
    "import numpy as np  # noqa\n",
    "from mayavi import mlab  # noqa\n",
    "from surfer import Brain  # noqa\n",
    "\n",
    "brain = Brain(subject, 'lh', 'inflated', subjects_dir=subjects_dir)\n",
    "surf = brain.geo['lh']\n",
    "\n",
    "vertidx = np.where(src[0]['inuse'])[0]\n",
    "\n",
    "mlab.points3d(surf.x[vertidx], surf.y[vertidx],\n",
    "              surf.z[vertidx], color=(1, 1, 0), scale_factor=1.5)"
   ]
  },
  {
   "cell_type": "code",
   "execution_count": null,
   "metadata": {},
   "outputs": [],
   "source": [
    "#conductivity = (0.3,)  # for single layer\n",
    "conductivity = (0.3, 0.006, 0.3)  # for three layers\n",
    "model = mne.make_bem_model(subject= subject, ico=4,\n",
    "                           conductivity=conductivity,\n",
    "                           subjects_dir=subjects_dir)\n",
    "bem = mne.make_bem_solution(model)"
   ]
  },
  {
   "cell_type": "code",
   "execution_count": null,
   "metadata": {},
   "outputs": [],
   "source": [
    "fwd = mne.make_forward_solution(epochs_clean.info, trans=trans, src=src, bem=bem,\n",
    "                                meg=False, eeg=True, mindist=5.0, n_jobs=2)\n",
    "print(fwd)"
   ]
  },
  {
   "cell_type": "code",
   "execution_count": null,
   "metadata": {},
   "outputs": [],
   "source": [
    "fwd_fixed = mne.convert_forward_solution(fwd, surf_ori=True, force_fixed=True,\n",
    "                                         use_cps=True)\n",
    "leadfield = fwd_fixed['sol']['data']\n",
    "print(\"Leadfield size : %d sensors x %d dipoles\" % leadfield.shape)"
   ]
  },
  {
   "cell_type": "code",
   "execution_count": null,
   "metadata": {},
   "outputs": [],
   "source": [
    " mne.write_forward_solution('../data/derived/nathalie-fwd.fif',fwd_fixed)\n"
   ]
  },
  {
   "cell_type": "code",
   "execution_count": null,
   "metadata": {},
   "outputs": [],
   "source": [
    "mne.read_forward_solution('../data/derived/nathalie-fwd.fif')\n"
   ]
  }
 ],
 "metadata": {
  "kernelspec": {
   "display_name": "Python 3",
   "language": "python",
   "name": "python3"
  },
  "language_info": {
   "codemirror_mode": {
    "name": "ipython",
    "version": 3
   },
   "file_extension": ".py",
   "mimetype": "text/x-python",
   "name": "python",
   "nbconvert_exporter": "python",
   "pygments_lexer": "ipython3",
   "version": "3.6.3"
  },
  "latex_envs": {
   "LaTeX_envs_menu_present": true,
   "autocomplete": true,
   "bibliofile": "biblio.bib",
   "cite_by": "apalike",
   "current_citInitial": 1,
   "eqLabelWithNumbers": true,
   "eqNumInitial": 1,
   "hotkeys": {
    "equation": "Ctrl-E",
    "itemize": "Ctrl-I"
   },
   "labels_anchors": false,
   "latex_user_defs": false,
   "report_style_numbering": false,
   "user_envs_cfg": false
  }
 },
 "nbformat": 4,
 "nbformat_minor": 2
}
