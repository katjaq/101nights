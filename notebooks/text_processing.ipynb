{
 "cells": [
  {
   "cell_type": "markdown",
   "metadata": {},
   "source": [
    "# Parsing the xml files for words"
   ]
  },
  {
   "cell_type": "markdown",
   "metadata": {},
   "source": [
    "### This charges all the events for the messages events in a pandas dataframe"
   ]
  },
  {
   "cell_type": "code",
   "execution_count": null,
   "metadata": {},
   "outputs": [],
   "source": [
    "# set up stuff\n",
    "%matplotlib inline\n",
    "%load_ext autoreload\n",
    "%autoreload 2\n",
    "\n",
    "import sys\n",
    "sys.path.append('../src/')\n",
    "from parse_xml import *"
   ]
  },
  {
   "cell_type": "code",
   "execution_count": null,
   "metadata": {
    "scrolled": true
   },
   "outputs": [],
   "source": [
    "# Compute a pandas data-frame with the time, word and type for the message send during the sleep\n",
    "events = get_events_from_xml()\n",
    "events.head()"
   ]
  },
  {
   "cell_type": "code",
   "execution_count": null,
   "metadata": {},
   "outputs": [],
   "source": [
    "# Load the dreams.csv\n",
    "import pandas as pd\n",
    "import os.path\n",
    "\n",
    "dreams_fname = '../data/derived/dreams.csv'\n",
    "if os.path.isfile(dreams_fname):\n",
    "    dreams = pd.read_csv(dreams_fname)\n",
    "else:\n",
    "    raise RuntimeError('you should pre-compute dreams.csv. Please run src/dream_parser.py')\n",
    "\n",
    "dreams.head()"
   ]
  },
  {
   "cell_type": "markdown",
   "metadata": {},
   "source": [
    "start pre-processing the events"
   ]
  },
  {
   "cell_type": "code",
   "execution_count": null,
   "metadata": {},
   "outputs": [],
   "source": [
    "# Combine both dataframes into single one. \n",
    "#\n",
    "# this is not really used, since is better to work with dreams and events\n",
    "assert len(dreams.night.unique()) == len(dreams.night)\n",
    "_dreams = dreams.copy().set_index('night')\n",
    "_events = events.copy().set_index('night')\n",
    "df = _events.join(_dreams).reset_index()\n",
    "del _dreams\n",
    "del _events\n",
    "df"
   ]
  },
  {
   "cell_type": "markdown",
   "metadata": {},
   "source": [
    "Intersect Collect night event and report words"
   ]
  },
  {
   "cell_type": "code",
   "execution_count": null,
   "metadata": {},
   "outputs": [],
   "source": [
    "def get_event_words(night_id):\n",
    "    return events[(events.type=='auto') & (events.night==night_id)].word.values\n",
    "\n",
    "def get_dream_report_words(night_id):\n",
    "    return set(dreams[dreams['night']==night_id].text.to_string().lower().split())\n",
    "\n",
    "def intersect_set_list(my_set, my_list):\n",
    "    return my_set.intersection(my_list)"
   ]
  },
  {
   "cell_type": "code",
   "execution_count": null,
   "metadata": {
    "scrolled": false
   },
   "outputs": [],
   "source": [
    "xx = pd.DataFrame(columns=[\"night\", \"event_words\", \"report_words\", \"intersection\"])\n",
    "for n in events.night.unique():\n",
    "    event_words = get_event_words(n)\n",
    "    report_words = get_dream_report_words(n)\n",
    "    intersection = intersect_set_list(report_words, event_words)\n",
    "    xx = xx.append({'night':n, 'event_words':event_words, 'report_words':report_words, 'intersection':intersection}, ignore_index=True)\n",
    "\n",
    "xx.set_index('night', drop=True, inplace=True)\n",
    "\n",
    "xx[xx['intersection'].values != set()]"
   ]
  },
  {
   "cell_type": "markdown",
   "metadata": {},
   "source": [
    "### We can find a word with the time stamp : example"
   ]
  },
  {
   "cell_type": "code",
   "execution_count": null,
   "metadata": {},
   "outputs": [],
   "source": [
    "events.loc[events.time == \"2017-12-05-06-27-39-010\"].word"
   ]
  },
  {
   "cell_type": "code",
   "execution_count": null,
   "metadata": {},
   "outputs": [],
   "source": [
    "import mne"
   ]
  },
  {
   "cell_type": "code",
   "execution_count": null,
   "metadata": {},
   "outputs": [],
   "source": [
    "path_to_file = '/home/ramon/data_hackingsession/Nathalie-78_20171118_123017.mff'\n",
    "raw = mne.io.read_raw_egi(path_to_file,\n",
    "                          montage='GSN-HydroCel-256',\n",
    "                          preload=False)\n",
    "events = mne.event.find_events(raw)\n",
    "print(events)"
   ]
  }
 ],
 "metadata": {
  "kernelspec": {
   "display_name": "Python 3",
   "language": "python",
   "name": "python3"
  },
  "language_info": {
   "codemirror_mode": {
    "name": "ipython",
    "version": 3
   },
   "file_extension": ".py",
   "mimetype": "text/x-python",
   "name": "python",
   "nbconvert_exporter": "python",
   "pygments_lexer": "ipython3",
   "version": "3.6.3"
  }
 },
 "nbformat": 4,
 "nbformat_minor": 2
}
